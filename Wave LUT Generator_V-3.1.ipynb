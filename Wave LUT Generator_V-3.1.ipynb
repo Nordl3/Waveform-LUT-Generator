{
 "cells": [
  {
   "cell_type": "code",
   "execution_count": 1,
   "id": "3044e186-0ef4-4dea-91a0-050787f4bbf8",
   "metadata": {},
   "outputs": [
    {
     "data": {
      "application/vnd.jupyter.widget-view+json": {
       "model_id": "449e3f2c618346e09343860af2cc585d",
       "version_major": 2,
       "version_minor": 0
      },
      "text/plain": [
       "interactive(children=(Dropdown(description='core_wave_type', index=1, options=('Sine', 'Ramp Down', 'Ramp Up',…"
      ]
     },
     "metadata": {},
     "output_type": "display_data"
    },
    {
     "data": {
      "text/plain": [
       "<function __main__.plot_lut(core_wave_type, mod_wave_type, core_freq, mod_freq, core_phase, mod_phase, ramp_steepness, mod_amplitude, mod_fadeIn, mod_fadeOut, duty_cycle, min_dac, max_dac, lut_size)>"
      ]
     },
     "execution_count": 1,
     "metadata": {},
     "output_type": "execute_result"
    }
   ],
   "source": [
    "# Cell 1: Define waveform generation functions and display widgets\n",
    "\n",
    "import numpy as np\n",
    "import matplotlib.pyplot as plt\n",
    "import ipywidgets as widgets\n",
    "from ipywidgets import interact\n",
    "\n",
    "# Global variables to be used across cells\n",
    "export_count = 1  # Export count for LUT naming\n",
    "scaled_wave = None  # Store the waveform globally for export\n",
    "\n",
    "# Function to generate core waveform\n",
    "def generate_core_waveform(LUT_SIZE, freq, phase, ramp_steepness, waveform_type):\n",
    "    t = (np.linspace(0, 1, LUT_SIZE, endpoint=False) * freq + phase) % 1\n",
    "    if waveform_type == 'Sine':\n",
    "        wave = np.sin(2 * np.pi * t)\n",
    "    elif waveform_type == 'Ramp Down':\n",
    "        wave = (1 - t) ** ramp_steepness\n",
    "    elif waveform_type == 'Ramp Up':\n",
    "        wave = t ** ramp_steepness\n",
    "    elif waveform_type == 'Triangle':\n",
    "        wave = 2 * np.abs(t - 0.5) - 1\n",
    "    elif waveform_type == 'Square':\n",
    "        wave = np.sign(np.sin(2 * np.pi * t))\n",
    "    return wave\n",
    "\n",
    "# Function to generate modulation waveform\n",
    "def generate_mod_wave(LUT_SIZE, freq, phase, mod_type, duty_cycle):\n",
    "    t = (np.linspace(0, 1, LUT_SIZE, endpoint=False) * freq + phase) % 1\n",
    "    if mod_type == 'Sine':\n",
    "        mod_wave = np.sin(2 * np.pi * t)\n",
    "    elif mod_type == 'Ramp Down':\n",
    "        mod_wave = 1 - t\n",
    "    elif mod_type == 'Ramp Up':\n",
    "        mod_wave = t\n",
    "    elif mod_type == 'Triangle':\n",
    "        mod_wave = 2 * np.abs(t - 0.5) - 1\n",
    "    elif mod_type == 'Square':\n",
    "        mod_wave = np.where(t < duty_cycle, 1, -1)  # Apply duty cycle\n",
    "    return mod_wave\n",
    "\n",
    "# Function to plot and save the waveform (also save as PNG)\n",
    "def plot_lut(core_wave_type, mod_wave_type, core_freq, mod_freq, core_phase, mod_phase, ramp_steepness, mod_amplitude, mod_fadeIn, mod_fadeOut, duty_cycle, min_dac, max_dac, lut_size):\n",
    "    global scaled_wave  # Declare global so it can be accessed in export functions\n",
    "    LUT_SIZE = lut_size\n",
    "\n",
    "    core_wave = generate_core_waveform(LUT_SIZE, core_freq, core_phase, ramp_steepness, core_wave_type)\n",
    "    mod_wave = generate_mod_wave(LUT_SIZE, mod_freq, mod_phase, mod_wave_type, duty_cycle)\n",
    "\n",
    "    fade_in_effect = np.linspace(0, 1, LUT_SIZE) ** mod_fadeIn\n",
    "    fade_out_effect = np.linspace(1, 0, LUT_SIZE) ** mod_fadeOut\n",
    "    combined_fade = np.minimum(fade_in_effect, fade_out_effect)\n",
    "\n",
    "    combined_wave = core_wave + (mod_amplitude * combined_fade) * mod_wave\n",
    "    normalized_wave = (combined_wave - np.min(combined_wave)) / (np.max(combined_wave) - np.min(combined_wave))\n",
    "    scaled_wave = normalized_wave * (max_dac - min_dac) + min_dac\n",
    "\n",
    "    # Plot the waveform\n",
    "    plt.figure(figsize=(10, 4))\n",
    "    plt.plot(scaled_wave)\n",
    "    plt.title(f'Core: {core_wave_type}, Mod: {mod_wave_type}, Core Freq: {core_freq}, Mod Freq: {mod_freq}')\n",
    "    plt.xlabel('Index')\n",
    "    plt.ylabel('DAC Value')\n",
    "    plt.grid(True)\n",
    "\n",
    "    # Save the plot as a PNG file\n",
    "    filename = f'myLUT_{export_count}.png'\n",
    "    plt.savefig(filename)\n",
    "    plt.show()\n",
    "    print(f\"Waveform plot saved as {filename}\")\n",
    "\n",
    "# Use interact to display the GUI controls and handle plotting\n",
    "interact(plot_lut,\n",
    "         core_wave_type=widgets.Dropdown(options=['Sine', 'Ramp Down', 'Ramp Up', 'Triangle', 'Square'], value='Ramp Down', description='core_wave_type'),\n",
    "         core_freq=widgets.FloatSlider(min=1.0, max=8, step=0.25, value=1, description='core_freq'),\n",
    "         core_phase=widgets.FloatSlider(min=0, max=1, step=0.01, value=0, description='core_phase'),\n",
    "         ramp_steepness=widgets.FloatSlider(min=0.1, max=10, step=0.1, value=1, description='core_ramp_steepness'),\n",
    "         mod_wave_type=widgets.Dropdown(options=['Sine', 'Ramp Down', 'Ramp Up', 'Triangle', 'Square'], value='Sine', description='mod_wave_type'),\n",
    "         mod_freq=widgets.FloatSlider(min=1.0, max=8, step=0.25, value=3.50, description='mod_freq'),\n",
    "         mod_phase=widgets.FloatSlider(min=0, max=1, step=0.01, value=0.25, description='mod_phase'),\n",
    "         mod_amplitude=widgets.FloatSlider(min=0, max=1, step=0.01, value=1.0, description='mod_amplitude'),\n",
    "         mod_fadeIn=widgets.FloatSlider(min=0.0, max=10, step=0.1, value=1.0, description='mod_fadeIn'),\n",
    "         mod_fadeOut=widgets.FloatSlider(min=0.0, max=10, step=0.1, value=1.0, description='mod_fadeOut'),\n",
    "         duty_cycle=widgets.FloatSlider(min=0, max=1, step=0.01, value=0.5, description='mod_duty_cycle_square'),\n",
    "         min_dac=widgets.IntText(value=0, description='min_dac'),\n",
    "         max_dac=widgets.IntText(value=3090, description='max_dac'),\n",
    "         lut_size=widgets.IntText(value=4096, description='lut_size'))\n"
   ]
  },
  {
   "cell_type": "code",
   "execution_count": 2,
   "id": "3a07f383-2fc5-41d1-94e7-65ec3fea8a90",
   "metadata": {},
   "outputs": [],
   "source": [
    "# Cell 2: Export the LUT and waveform plot\n",
    "\n",
    "def export_lut_for_arduino(lut):\n",
    "    global export_count  # To maintain count across multiple exports\n",
    "\n",
    "    # Truncate the float values to integers\n",
    "    integer_lut = np.floor(lut).astype(int)\n",
    "\n",
    "    # Construct the filename with incrementing count\n",
    "    filename = f'myLUT_{export_count}.txt'\n",
    "\n",
    "    # Arduino LUT declaration\n",
    "    lut_name = f\"myLUT_{export_count}\"\n",
    "    header = f\"const uint16_t {lut_name}[LUT_SIZE] = {{\\n\"\n",
    "\n",
    "    # Prepare the values, 10 per line\n",
    "    lines = []\n",
    "    for i in range(0, len(integer_lut), 10):\n",
    "        line = \", \".join(map(str, integer_lut[i:i+10]))\n",
    "        lines.append(f\"  {line}\")\n",
    "\n",
    "    # Final content\n",
    "    content = header + \",\\n\".join(lines) + \"\\n};\\n\"\n",
    "\n",
    "    # Write to the file\n",
    "    with open(filename, \"w\") as file:\n",
    "        file.write(content)\n",
    "\n",
    "    print(f\"LUT exported to {filename}\")\n",
    "\n",
    "    # Increment the export count for future LUTs\n",
    "    export_count += 1\n"
   ]
  },
  {
   "cell_type": "code",
   "execution_count": 12,
   "id": "e2e2d70b-90e8-4992-b6aa-b20f92eeb62a",
   "metadata": {},
   "outputs": [
    {
     "name": "stdout",
     "output_type": "stream",
     "text": [
      "LUT exported to myLUT_10.txt\n"
     ]
    }
   ],
   "source": [
    "# Cell 3: Export the current LUT (scaled_wave)\n",
    "export_lut_for_arduino(scaled_wave)\n"
   ]
  },
  {
   "cell_type": "code",
   "execution_count": null,
   "id": "7d918ca0-685f-4450-ac37-5d7ecf609e75",
   "metadata": {},
   "outputs": [],
   "source": []
  }
 ],
 "metadata": {
  "kernelspec": {
   "display_name": "Python 3 (ipykernel)",
   "language": "python",
   "name": "python3"
  },
  "language_info": {
   "codemirror_mode": {
    "name": "ipython",
    "version": 3
   },
   "file_extension": ".py",
   "mimetype": "text/x-python",
   "name": "python",
   "nbconvert_exporter": "python",
   "pygments_lexer": "ipython3",
   "version": "3.11.2"
  }
 },
 "nbformat": 4,
 "nbformat_minor": 5
}
